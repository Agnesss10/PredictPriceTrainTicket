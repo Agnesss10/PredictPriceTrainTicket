{
 "cells": [
  {
   "cell_type": "code",
   "execution_count": 1,
   "metadata": {},
   "outputs": [],
   "source": [
    "import sys\n",
    "\n",
    "from sklearn.ensemble import RandomForestRegressor\n",
    "sys.path.insert(0, '../src')\n",
    "from src.data.make_dataset import load_processed_data\n",
    "from src.visualization.interface import main\n",
    "\n",
    "\n",
    "data = load_processed_data()\n",
    "\n",
    "features = data.drop(['price'], axis=1)  \n",
    "target = data['price']\n",
    "\n",
    "random_forest_model = RandomForestRegressor(n_estimators=100, random_state=2020)  \n",
    "random_forest_model.fit(features, target)\n",
    "\n",
    "main()"
   ]
  }
 ],
 "metadata": {
  "kernelspec": {
   "display_name": "Python 3",
   "language": "python",
   "name": "python3"
  },
  "language_info": {
   "codemirror_mode": {
    "name": "ipython",
    "version": 3
   },
   "file_extension": ".py",
   "mimetype": "text/x-python",
   "name": "python",
   "nbconvert_exporter": "python",
   "pygments_lexer": "ipython3",
   "version": "3.11.5"
  }
 },
 "nbformat": 4,
 "nbformat_minor": 2
}
